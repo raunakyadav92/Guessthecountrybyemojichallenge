{
  "nbformat": 4,
  "nbformat_minor": 0,
  "metadata": {
    "colab": {
      "provenance": [],
      "authorship_tag": "ABX9TyOysXg96NcKYPYCE+BLtcxH",
      "include_colab_link": true
    },
    "kernelspec": {
      "name": "python3",
      "display_name": "Python 3"
    },
    "language_info": {
      "name": "python"
    }
  },
  "cells": [
    {
      "cell_type": "markdown",
      "metadata": {
        "id": "view-in-github",
        "colab_type": "text"
      },
      "source": [
        "<a href=\"https://colab.research.google.com/github/raunakyadav92/Guessthecountrybyemojichallenge/blob/main/guessthecountru_by_emoji_challenge.ipynb\" target=\"_parent\"><img src=\"https://colab.research.google.com/assets/colab-badge.svg\" alt=\"Open In Colab\"/></a>"
      ]
    },
    {
      "cell_type": "code",
      "execution_count": null,
      "metadata": {
        "id": "1CpE4bmUo61N"
      },
      "outputs": [],
      "source": [
        "import openai\n",
        "\n",
        "openai.api_key = 'YOUR_API_KEY'\n",
        "\n",
        "def get_country_emoji(country_name):\n",
        "    prompt = f\"Give me 3 emojis that represent the country '{country_name}'. Only emojis.\"\n",
        "    response = openai.Completion.create(\n",
        "        engine=\"text-davinci-003\",\n",
        "        prompt=prompt,\n",
        "        max_tokens=20\n",
        "    )\n",
        "    return response.choices[0].text.strip()\n",
        "\n",
        "def check_answer(correct_country, user_guess):\n",
        "    return correct_country.lower() == user_guess.lower()\n",
        "\n",
        "# Example Game Round\n",
        "country = \"Italy\"\n",
        "emojis = get_country_emoji(country)\n",
        "print(f\"Guess the country: {emojis}\")\n",
        "user_guess = input(\"Your guess: \")\n",
        "\n",
        "if check_answer(country, user_guess):\n",
        "    print(\"✅ Correct!\")\n",
        "else:\n",
        "    print(f\"❌ Wrong! The correct answer was: {country}\")\n"
      ]
    }
  ]
}